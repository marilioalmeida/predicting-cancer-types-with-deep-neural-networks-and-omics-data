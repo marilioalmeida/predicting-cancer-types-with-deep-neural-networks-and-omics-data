{
 "cells": [
  {
   "cell_type": "code",
   "execution_count": 2,
   "id": "bab8dec5-80f2-4070-8904-7967a7410b13",
   "metadata": {},
   "outputs": [
    {
     "name": "stdout",
     "output_type": "stream",
     "text": [
      "20245191847185984\n",
      "(4908, 100, 100) (4908,)\n"
     ]
    }
   ],
   "source": [
    "#!/usr/bin/python3.7\n",
    "# -*- coding: UTF-8 -*-\n",
    "import numpy as np\n",
    "import os\n",
    "import random\n",
    "from datetime import datetime as DT\n",
    "import sys\n",
    "\n",
    "path =  './program_1/validation_samples/'\n",
    "dirs = os.listdir(path)\n",
    "\n",
    "output_file_name= './program_1/output/Example_validation_4908_TCGA_samples'\n",
    "\n",
    "time = DT.utcnow()\n",
    "seed = str(time.year) + str(time.month) + str(time.day) + str(time.hour) + str(time.minute) + str(time.microsecond)\n",
    "random.seed(seed)\n",
    "random.shuffle(dirs)  # shuffle input order\n",
    "print (seed)\n",
    "\n",
    "sample_titles = np.array ( dirs )\n",
    "samples = []\n",
    "labels = []\n",
    "elements = []\n",
    "O_names = []\n",
    "\n",
    "for name in dirs:\n",
    "    O_names.append ( name )\n",
    "    data = name.split('-')\n",
    "    labels.append ( data[2] )\n",
    "    elements_name = []\n",
    "    with open ( path+\"/\"+name ) as file:\n",
    "        for line in file:\n",
    "            line = line.strip().split()\n",
    "            elements_name.append(line)\n",
    "    elements.append(elements_name)\n",
    "\n",
    "x_samples = np.array ( elements ).astype ( np.float32 )\n",
    "y_labels = np.array (labels).astype ( np.int32 )\n",
    "np.save ( output_file_name+\".npy\", x_samples )\n",
    "np.save ( output_file_name+\"_label.npy\", y_labels )\n",
    "np.save ( output_file_name+\"_title.npy\", sample_titles )\n",
    "\n",
    "print ( x_samples.shape, y_labels.shape)\n"
   ]
  },
  {
   "cell_type": "code",
   "execution_count": null,
   "id": "32112273-879e-45b9-bfd8-399fbe34dc71",
   "metadata": {},
   "outputs": [],
   "source": []
  }
 ],
 "metadata": {
  "kernelspec": {
   "display_name": "Python 3 (ipykernel)",
   "language": "python",
   "name": "python3"
  },
  "language_info": {
   "codemirror_mode": {
    "name": "ipython",
    "version": 3
   },
   "file_extension": ".py",
   "mimetype": "text/x-python",
   "name": "python",
   "nbconvert_exporter": "python",
   "pygments_lexer": "ipython3",
   "version": "3.10.11"
  }
 },
 "nbformat": 4,
 "nbformat_minor": 5
}
